{
  "cells": [
    {
      "cell_type": "markdown",
      "metadata": {
        "id": "view-in-github"
      },
      "source": [
        "[![Open In Colab](https://colab.research.google.com/assets/colab-badge.svg)](https://colab.research.google.com/github/camenduru/so-vits-svc-colab/blob/main/so_vits_svc_fork_colab.ipynb)"
      ]
    },
    {
      "cell_type": "code",
      "execution_count": null,
      "metadata": {
        "id": "FMSSyr3TT_se"
      },
      "outputs": [],
      "source": [
        "%cd /content\n",
        "!git clone https://github.com/camenduru/so-vits-svc-fork\n",
        "%cd /content/so-vits-svc-fork\n",
        "%pip install .\n",
        "\n",
        "!apt -y install -qq aria2\n",
        "!aria2c --console-log-level=error -c -x 16 -s 16 -k 1M https://huggingface.co/vdo/so-vits-svc-test/resolve/main/test_song.wav -d /content -o test_song.wav\n",
        "\n",
        "!aria2c --console-log-level=error -c -x 16 -s 16 -k 1M https://huggingface.co/Itoifi/so-vits-svc-acg-models/resolve/main/44k-V4.0-luna/G_289600.pth -d /content/models/luna -o G_289600.pth\n",
        "!aria2c --console-log-level=error -c -x 16 -s 16 -k 1M https://huggingface.co/Itoifi/so-vits-svc-acg-models/raw/main/44k-V4.0-luna/config.json -d /content/models/luna -o config.json\n",
        "\n",
        "!aria2c --console-log-level=error -c -x 16 -s 16 -k 1M https://huggingface.co/TachibanaKimika/so-vits-svc-4.0-models/resolve/main/riri/G_riri_220.pth -d /content/models/riri -o G_riri_220.pth\n",
        "!aria2c --console-log-level=error -c -x 16 -s 16 -k 1M https://huggingface.co/TachibanaKimika/so-vits-svc-4.0-models/resolve/main/riri/config.json -d /content/models/riri -o config.json\n",
        "\n",
        "from IPython.display import Audio, display"
      ]
    },
    {
      "cell_type": "code",
      "execution_count": null,
      "metadata": {
        "id": "_rvtPC_Zk21m"
      },
      "outputs": [],
      "source": [
        "!svc infer /content/test_song.wav -o /content/test_song_out2.wav -c /content/models/luna/config.json -m /content/models/luna/G_289600.pth\n",
        "display(Audio(f\"/content/test_song_out2.wav\", autoplay=True))"
      ]
    },
    {
      "cell_type": "code",
      "execution_count": null,
      "metadata": {
        "id": "5tUoBp4KW-8c"
      },
      "outputs": [],
      "source": [
        "!svc infer /content/test_song.wav -o /content/test_song_out1.wav -c /content/models/riri/config.json -m /content/models/riri/G_riri_220.pth\n",
        "display(Audio(f\"/content/test_song_out1.wav\", autoplay=True))"
      ]
    }
  ],
  "metadata": {
    "accelerator": "GPU",
    "colab": {
      "provenance": []
    },
    "gpuClass": "standard",
    "kernelspec": {
      "display_name": "Python 3",
      "name": "python3"
    },
    "language_info": {
      "name": "python"
    }
  },
  "nbformat": 4,
  "nbformat_minor": 0
}
