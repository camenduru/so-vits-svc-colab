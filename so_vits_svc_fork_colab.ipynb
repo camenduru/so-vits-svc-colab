{
  "nbformat": 4,
  "nbformat_minor": 0,
  "metadata": {
    "colab": {
      "provenance": []
    },
    "kernelspec": {
      "name": "python3",
      "display_name": "Python 3"
    },
    "language_info": {
      "name": "python"
    },
    "accelerator": "GPU",
    "gpuClass": "standard"
  },
  "cells": [
    {
      "cell_type": "markdown",
      "metadata": {
        "id": "view-in-github"
      },
      "source": [
        "[![Open In Colab](https://colab.research.google.com/assets/colab-badge.svg)](https://colab.research.google.com/github/camenduru/so-vits-svc-colab/blob/main/so_vits_svc_fork_colab.ipynb)"
      ]
    },
    {
      "cell_type": "code",
      "source": [
        "%cd /content\n",
        "!git clone https://github.com/camenduru/so-vits-svc-fork\n",
        "%cd /content/so-vits-svc-fork\n",
        "%pip install .\n",
        "\n",
        "!apt -y install -qq aria2\n",
        "!aria2c --console-log-level=error -c -x 16 -s 16 -k 1M https://huggingface.co/vdo/so-vits-svc-test/resolve/main/test_song.wav -d /content -o test_song.wav\n",
        "\n",
        "!aria2c --console-log-level=error -c -x 16 -s 16 -k 1M https://huggingface.co/Itoifi/so-vits-svc-acg-models/resolve/main/44k-V4.0-luna/G_289600.pth -d /content/models/luna -o G_289600.pth\n",
        "!aria2c --console-log-level=error -c -x 16 -s 16 -k 1M https://huggingface.co/Itoifi/so-vits-svc-acg-models/raw/main/44k-V4.0-luna/config.json -d /content/models/luna -o config.json\n",
        "\n",
        "!aria2c --console-log-level=error -c -x 16 -s 16 -k 1M https://huggingface.co/TachibanaKimika/so-vits-svc-4.0-models/resolve/main/riri/G_riri_220.pth -d /content/models/riri -o G_riri_220.pth\n",
        "!aria2c --console-log-level=error -c -x 16 -s 16 -k 1M https://huggingface.co/TachibanaKimika/so-vits-svc-4.0-models/resolve/main/riri/config.json -d /content/models/riri -o config.json\n",
        "\n",
        "from IPython.display import Audio, display"
      ],
      "metadata": {
        "id": "FMSSyr3TT_se"
      },
      "execution_count": null,
      "outputs": []
    },
    {
      "cell_type": "code",
      "source": [
        "!svc infer /content/test_song.wav /content/test_out1_song.wav -c /content/models/riri/config.json -m /content/models/riri/G_riri_220.pth\n",
        "display(Audio(f\"/content/test_song.out1.wav\", autoplay=True))"
      ],
      "metadata": {
        "id": "5tUoBp4KW-8c"
      },
      "execution_count": null,
      "outputs": []
    },
    {
      "cell_type": "code",
      "source": [
        "!svc infer /content/test_song.wav /content/test_out2_song.wav -c /content/models/luna/config.json -m /content/models/luna/G_289600.pth\n",
        "display(Audio(f\"/content/test_song.out2.wav\", autoplay=True))"
      ],
      "metadata": {
        "id": "_rvtPC_Zk21m"
      },
      "execution_count": null,
      "outputs": []
    }
  ]
}